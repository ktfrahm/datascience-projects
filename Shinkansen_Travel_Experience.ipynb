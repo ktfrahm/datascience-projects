{
  "cells": [
    {
      "cell_type": "markdown",
      "metadata": {
        "id": "view-in-github",
        "colab_type": "text"
      },
      "source": [
        "<a href=\"https://colab.research.google.com/github/ktfrahm/datascience-projects/blob/main/Shinkansen_Travel_Experience.ipynb\" target=\"_parent\"><img src=\"https://colab.research.google.com/assets/colab-badge.svg\" alt=\"Open In Colab\"/></a>"
      ]
    },
    {
      "cell_type": "markdown",
      "source": [
        "#**Problem Statement**"
      ],
      "metadata": {
        "id": "-yVa5kkhcHB3"
      }
    },
    {
      "cell_type": "markdown",
      "source": [
        "This problem statement is based on the Shinkansen Bullet Train in Japan, and passengers’ experience with that mode of travel. This machine-learning exercise aims to determine the relative importance of each parameter with regard to their contribution to the passengers’ overall travel experience. The dataset contains a random sample of individuals who traveled on this train. The on-time performance of the trains along with passenger information is published in a file named ‘Traveldata_train.csv’.  These passengers were later asked to provide their feedback on various parameters related to the travel along with their overall experience. These collected details are made available in the survey report labeled ‘Surveydata_train.csv’.\n",
        "\n",
        "In the survey, each passenger was explicitly asked whether they were satisfied with their overall travel experience or not, and that is captured in the data of the survey report under the variable labeled ‘Overall_Experience’.\n",
        "\n",
        "The objective of this problem is to understand which parameters play an important role in swaying passenger feedback towards a positive scale. You are provided test data containing the travel data and the survey data of passengers. Both the test data and the train data are collected at the same time and belong to the same population."
      ],
      "metadata": {
        "id": "95Lkxyn8cNFD"
      }
    },
    {
      "cell_type": "markdown",
      "metadata": {
        "id": "cn2SmJIvd0QC"
      },
      "source": [
        "#**Imports**"
      ]
    },
    {
      "cell_type": "code",
      "execution_count": 1,
      "metadata": {
        "colab": {
          "base_uri": "https://localhost:8080/"
        },
        "id": "72yNRs2MZkKb",
        "outputId": "33685c02-1f77-4688-ac73-a11cb836cfa2"
      },
      "outputs": [
        {
          "output_type": "stream",
          "name": "stdout",
          "text": [
            "Requirement already satisfied: scikeras in ./anaconda3/envs/tf/lib/python3.11/site-packages (0.13.0)\n",
            "Collecting keras>=3.2.0 (from scikeras)\n",
            "  Using cached keras-3.4.0-py3-none-any.whl.metadata (5.8 kB)\n",
            "Requirement already satisfied: scikit-learn>=1.4.2 in ./anaconda3/envs/tf/lib/python3.11/site-packages (from scikeras) (1.5.0)\n",
            "Requirement already satisfied: absl-py in ./anaconda3/envs/tf/lib/python3.11/site-packages (from keras>=3.2.0->scikeras) (2.1.0)\n",
            "Requirement already satisfied: numpy in ./anaconda3/envs/tf/lib/python3.11/site-packages (from keras>=3.2.0->scikeras) (1.23.5)\n",
            "Requirement already satisfied: rich in ./anaconda3/envs/tf/lib/python3.11/site-packages (from keras>=3.2.0->scikeras) (13.7.1)\n",
            "Requirement already satisfied: namex in ./anaconda3/envs/tf/lib/python3.11/site-packages (from keras>=3.2.0->scikeras) (0.0.8)\n",
            "Requirement already satisfied: h5py in ./anaconda3/envs/tf/lib/python3.11/site-packages (from keras>=3.2.0->scikeras) (3.11.0)\n",
            "Requirement already satisfied: optree in ./anaconda3/envs/tf/lib/python3.11/site-packages (from keras>=3.2.0->scikeras) (0.11.0)\n",
            "Requirement already satisfied: ml-dtypes in ./anaconda3/envs/tf/lib/python3.11/site-packages (from keras>=3.2.0->scikeras) (0.4.0)\n",
            "Requirement already satisfied: packaging in ./anaconda3/envs/tf/lib/python3.11/site-packages (from keras>=3.2.0->scikeras) (23.2)\n",
            "Requirement already satisfied: scipy>=1.6.0 in ./anaconda3/envs/tf/lib/python3.11/site-packages (from scikit-learn>=1.4.2->scikeras) (1.13.1)\n",
            "Requirement already satisfied: joblib>=1.2.0 in ./anaconda3/envs/tf/lib/python3.11/site-packages (from scikit-learn>=1.4.2->scikeras) (1.4.2)\n",
            "Requirement already satisfied: threadpoolctl>=3.1.0 in ./anaconda3/envs/tf/lib/python3.11/site-packages (from scikit-learn>=1.4.2->scikeras) (3.5.0)\n",
            "Requirement already satisfied: typing-extensions>=4.0.0 in ./anaconda3/envs/tf/lib/python3.11/site-packages (from optree->keras>=3.2.0->scikeras) (4.11.0)\n",
            "Requirement already satisfied: markdown-it-py>=2.2.0 in ./anaconda3/envs/tf/lib/python3.11/site-packages (from rich->keras>=3.2.0->scikeras) (3.0.0)\n",
            "Requirement already satisfied: pygments<3.0.0,>=2.13.0 in ./anaconda3/envs/tf/lib/python3.11/site-packages (from rich->keras>=3.2.0->scikeras) (2.18.0)\n",
            "Requirement already satisfied: mdurl~=0.1 in ./anaconda3/envs/tf/lib/python3.11/site-packages (from markdown-it-py>=2.2.0->rich->keras>=3.2.0->scikeras) (0.1.2)\n",
            "Using cached keras-3.4.0-py3-none-any.whl (1.1 MB)\n",
            "Installing collected packages: keras\n",
            "  Attempting uninstall: keras\n",
            "    Found existing installation: keras 2.12.0\n",
            "    Uninstalling keras-2.12.0:\n",
            "      Successfully uninstalled keras-2.12.0\n",
            "\u001b[31mERROR: pip's dependency resolver does not currently take into account all the packages that are installed. This behaviour is the source of the following dependency conflicts.\n",
            "tensorflow 2.12.0 requires keras<2.13,>=2.12.0, but you have keras 3.4.0 which is incompatible.\u001b[0m\u001b[31m\n",
            "\u001b[0mSuccessfully installed keras-3.4.0\n"
          ]
        }
      ],
      "source": [
        "!pip install scikeras"
      ]
    },
    {
      "cell_type": "code",
      "source": [
        "!pip install tensorflow"
      ],
      "metadata": {
        "colab": {
          "base_uri": "https://localhost:8080/"
        },
        "id": "79g3s79zb1hP",
        "outputId": "cd622c41-6b93-429c-aeb9-1d252f0d73a9"
      },
      "execution_count": 3,
      "outputs": [
        {
          "output_type": "stream",
          "name": "stdout",
          "text": [
            "Requirement already satisfied: tensorflow in ./anaconda3/envs/tf/lib/python3.11/site-packages (2.12.0)\n",
            "Requirement already satisfied: absl-py>=1.0.0 in ./anaconda3/envs/tf/lib/python3.11/site-packages (from tensorflow) (2.1.0)\n",
            "Requirement already satisfied: astunparse>=1.6.0 in ./anaconda3/envs/tf/lib/python3.11/site-packages (from tensorflow) (1.6.3)\n",
            "Requirement already satisfied: flatbuffers>=2.0 in ./anaconda3/envs/tf/lib/python3.11/site-packages (from tensorflow) (2.0)\n",
            "Requirement already satisfied: gast<=0.4.0,>=0.2.1 in ./anaconda3/envs/tf/lib/python3.11/site-packages (from tensorflow) (0.4.0)\n",
            "Requirement already satisfied: google-pasta>=0.1.1 in ./anaconda3/envs/tf/lib/python3.11/site-packages (from tensorflow) (0.2.0)\n",
            "Requirement already satisfied: h5py>=2.9.0 in ./anaconda3/envs/tf/lib/python3.11/site-packages (from tensorflow) (3.11.0)\n",
            "Requirement already satisfied: jax>=0.3.15 in ./anaconda3/envs/tf/lib/python3.11/site-packages (from tensorflow) (0.4.30)\n",
            "Requirement already satisfied: libclang>=13.0.0 in ./anaconda3/envs/tf/lib/python3.11/site-packages (from tensorflow) (18.1.1)\n",
            "Requirement already satisfied: numpy<1.24,>=1.22 in ./anaconda3/envs/tf/lib/python3.11/site-packages (from tensorflow) (1.23.5)\n",
            "Requirement already satisfied: opt-einsum>=2.3.2 in ./anaconda3/envs/tf/lib/python3.11/site-packages (from tensorflow) (3.3.0)\n",
            "Requirement already satisfied: packaging in ./anaconda3/envs/tf/lib/python3.11/site-packages (from tensorflow) (23.2)\n",
            "Requirement already satisfied: protobuf!=4.21.0,!=4.21.1,!=4.21.2,!=4.21.3,!=4.21.4,!=4.21.5,<5.0.0dev,>=3.20.3 in ./anaconda3/envs/tf/lib/python3.11/site-packages (from tensorflow) (3.20.3)\n",
            "Requirement already satisfied: setuptools in ./anaconda3/envs/tf/lib/python3.11/site-packages (from tensorflow) (69.5.1)\n",
            "Requirement already satisfied: six>=1.12.0 in ./anaconda3/envs/tf/lib/python3.11/site-packages (from tensorflow) (1.16.0)\n",
            "Requirement already satisfied: termcolor>=1.1.0 in ./anaconda3/envs/tf/lib/python3.11/site-packages (from tensorflow) (2.1.0)\n",
            "Requirement already satisfied: typing-extensions>=3.6.6 in ./anaconda3/envs/tf/lib/python3.11/site-packages (from tensorflow) (4.11.0)\n",
            "Requirement already satisfied: wrapt<1.15,>=1.11.0 in ./anaconda3/envs/tf/lib/python3.11/site-packages (from tensorflow) (1.14.1)\n",
            "Requirement already satisfied: grpcio<2.0,>=1.24.3 in ./anaconda3/envs/tf/lib/python3.11/site-packages (from tensorflow) (1.48.2)\n",
            "Requirement already satisfied: tensorboard<2.13,>=2.12 in ./anaconda3/envs/tf/lib/python3.11/site-packages (from tensorflow) (2.12.1)\n",
            "Requirement already satisfied: tensorflow-estimator<2.13,>=2.12.0 in ./anaconda3/envs/tf/lib/python3.11/site-packages (from tensorflow) (2.12.0)\n",
            "Collecting keras<2.13,>=2.12.0 (from tensorflow)\n",
            "  Using cached keras-2.12.0-py2.py3-none-any.whl.metadata (1.4 kB)\n",
            "Requirement already satisfied: tensorflow-io-gcs-filesystem>=0.23.1 in ./anaconda3/envs/tf/lib/python3.11/site-packages (from tensorflow) (0.37.0)\n",
            "Requirement already satisfied: wheel<1.0,>=0.23.0 in ./anaconda3/envs/tf/lib/python3.11/site-packages (from astunparse>=1.6.0->tensorflow) (0.43.0)\n",
            "Requirement already satisfied: jaxlib<=0.4.30,>=0.4.27 in ./anaconda3/envs/tf/lib/python3.11/site-packages (from jax>=0.3.15->tensorflow) (0.4.30)\n",
            "Requirement already satisfied: ml-dtypes>=0.2.0 in ./anaconda3/envs/tf/lib/python3.11/site-packages (from jax>=0.3.15->tensorflow) (0.4.0)\n",
            "Requirement already satisfied: scipy>=1.9 in ./anaconda3/envs/tf/lib/python3.11/site-packages (from jax>=0.3.15->tensorflow) (1.13.1)\n",
            "Requirement already satisfied: google-auth<3,>=1.6.3 in ./anaconda3/envs/tf/lib/python3.11/site-packages (from tensorboard<2.13,>=2.12->tensorflow) (2.29.0)\n",
            "Requirement already satisfied: google-auth-oauthlib<1.1,>=0.5 in ./anaconda3/envs/tf/lib/python3.11/site-packages (from tensorboard<2.13,>=2.12->tensorflow) (0.5.2)\n",
            "Requirement already satisfied: markdown>=2.6.8 in ./anaconda3/envs/tf/lib/python3.11/site-packages (from tensorboard<2.13,>=2.12->tensorflow) (3.4.1)\n",
            "Requirement already satisfied: requests<3,>=2.21.0 in ./anaconda3/envs/tf/lib/python3.11/site-packages (from tensorboard<2.13,>=2.12->tensorflow) (2.32.2)\n",
            "Requirement already satisfied: tensorboard-data-server<0.8.0,>=0.7.0 in ./anaconda3/envs/tf/lib/python3.11/site-packages (from tensorboard<2.13,>=2.12->tensorflow) (0.7.0)\n",
            "Requirement already satisfied: tensorboard-plugin-wit>=1.6.0 in ./anaconda3/envs/tf/lib/python3.11/site-packages (from tensorboard<2.13,>=2.12->tensorflow) (1.6.0)\n",
            "Requirement already satisfied: werkzeug>=1.0.1 in ./anaconda3/envs/tf/lib/python3.11/site-packages (from tensorboard<2.13,>=2.12->tensorflow) (3.0.3)\n",
            "Requirement already satisfied: cachetools<6.0,>=2.0.0 in ./anaconda3/envs/tf/lib/python3.11/site-packages (from google-auth<3,>=1.6.3->tensorboard<2.13,>=2.12->tensorflow) (5.3.3)\n",
            "Requirement already satisfied: pyasn1-modules>=0.2.1 in ./anaconda3/envs/tf/lib/python3.11/site-packages (from google-auth<3,>=1.6.3->tensorboard<2.13,>=2.12->tensorflow) (0.2.8)\n",
            "Requirement already satisfied: rsa<5,>=3.1.4 in ./anaconda3/envs/tf/lib/python3.11/site-packages (from google-auth<3,>=1.6.3->tensorboard<2.13,>=2.12->tensorflow) (4.7.2)\n",
            "Requirement already satisfied: requests-oauthlib>=0.7.0 in ./anaconda3/envs/tf/lib/python3.11/site-packages (from google-auth-oauthlib<1.1,>=0.5->tensorboard<2.13,>=2.12->tensorflow) (1.3.0)\n",
            "Requirement already satisfied: charset-normalizer<4,>=2 in ./anaconda3/envs/tf/lib/python3.11/site-packages (from requests<3,>=2.21.0->tensorboard<2.13,>=2.12->tensorflow) (2.0.4)\n",
            "Requirement already satisfied: idna<4,>=2.5 in ./anaconda3/envs/tf/lib/python3.11/site-packages (from requests<3,>=2.21.0->tensorboard<2.13,>=2.12->tensorflow) (3.7)\n",
            "Requirement already satisfied: urllib3<3,>=1.21.1 in ./anaconda3/envs/tf/lib/python3.11/site-packages (from requests<3,>=2.21.0->tensorboard<2.13,>=2.12->tensorflow) (2.2.2)\n",
            "Requirement already satisfied: certifi>=2017.4.17 in ./anaconda3/envs/tf/lib/python3.11/site-packages (from requests<3,>=2.21.0->tensorboard<2.13,>=2.12->tensorflow) (2024.6.2)\n",
            "Requirement already satisfied: MarkupSafe>=2.1.1 in ./anaconda3/envs/tf/lib/python3.11/site-packages (from werkzeug>=1.0.1->tensorboard<2.13,>=2.12->tensorflow) (2.1.3)\n",
            "Requirement already satisfied: pyasn1<0.5.0,>=0.4.6 in ./anaconda3/envs/tf/lib/python3.11/site-packages (from pyasn1-modules>=0.2.1->google-auth<3,>=1.6.3->tensorboard<2.13,>=2.12->tensorflow) (0.4.8)\n",
            "Requirement already satisfied: oauthlib>=3.0.0 in ./anaconda3/envs/tf/lib/python3.11/site-packages (from requests-oauthlib>=0.7.0->google-auth-oauthlib<1.1,>=0.5->tensorboard<2.13,>=2.12->tensorflow) (3.2.2)\n",
            "Using cached keras-2.12.0-py2.py3-none-any.whl (1.7 MB)\n",
            "Installing collected packages: keras\n",
            "  Attempting uninstall: keras\n",
            "    Found existing installation: keras 3.4.0\n",
            "    Uninstalling keras-3.4.0:\n",
            "      Successfully uninstalled keras-3.4.0\n",
            "\u001b[31mERROR: pip's dependency resolver does not currently take into account all the packages that are installed. This behaviour is the source of the following dependency conflicts.\n",
            "scikeras 0.13.0 requires keras>=3.2.0, but you have keras 2.12.0 which is incompatible.\u001b[0m\u001b[31m\n",
            "\u001b[0mSuccessfully installed keras-2.12.0\n"
          ]
        }
      ]
    },
    {
      "cell_type": "code",
      "execution_count": 5,
      "metadata": {
        "id": "HOB3JZ9TatHf",
        "colab": {
          "base_uri": "https://localhost:8080/",
          "height": 211
        },
        "outputId": "fff3344f-c234-4878-ee4b-8f03577f5faa"
      },
      "outputs": [
        {
          "output_type": "error",
          "ename": "ModuleNotFoundError",
          "evalue": "No module named 'tensorflow.keras'",
          "traceback": [
            "\u001b[0;31m---------------------------------------------------------------------------\u001b[0m",
            "\u001b[0;31mModuleNotFoundError\u001b[0m                       Traceback (most recent call last)",
            "Cell \u001b[0;32mIn[5], line 45\u001b[0m\n\u001b[1;32m     42\u001b[0m \u001b[38;5;28;01mfrom\u001b[39;00m \u001b[38;5;21;01mscipy\u001b[39;00m\u001b[38;5;21;01m.\u001b[39;00m\u001b[38;5;21;01mstats\u001b[39;00m \u001b[38;5;28;01mimport\u001b[39;00m uniform\n\u001b[1;32m     44\u001b[0m \u001b[38;5;28;01mimport\u001b[39;00m \u001b[38;5;21;01mtensorflow\u001b[39;00m \u001b[38;5;28;01mas\u001b[39;00m \u001b[38;5;21;01mtf\u001b[39;00m\n\u001b[0;32m---> 45\u001b[0m \u001b[38;5;28;01mfrom\u001b[39;00m \u001b[38;5;21;01mtensorflow\u001b[39;00m\u001b[38;5;21;01m.\u001b[39;00m\u001b[38;5;21;01mkeras\u001b[39;00m\u001b[38;5;21;01m.\u001b[39;00m\u001b[38;5;21;01mmodels\u001b[39;00m \u001b[38;5;28;01mimport\u001b[39;00m Sequential\n\u001b[1;32m     46\u001b[0m \u001b[38;5;28;01mfrom\u001b[39;00m \u001b[38;5;21;01mtensorflow\u001b[39;00m\u001b[38;5;21;01m.\u001b[39;00m\u001b[38;5;21;01mkeras\u001b[39;00m\u001b[38;5;21;01m.\u001b[39;00m\u001b[38;5;21;01mlayers\u001b[39;00m \u001b[38;5;28;01mimport\u001b[39;00m Dense\n\u001b[1;32m     47\u001b[0m \u001b[38;5;28;01mfrom\u001b[39;00m \u001b[38;5;21;01mtensorflow\u001b[39;00m\u001b[38;5;21;01m.\u001b[39;00m\u001b[38;5;21;01mkeras\u001b[39;00m\u001b[38;5;21;01m.\u001b[39;00m\u001b[38;5;21;01mcallbacks\u001b[39;00m \u001b[38;5;28;01mimport\u001b[39;00m EarlyStopping  \u001b[38;5;66;03m# Regularization method to prevent the overfitting\u001b[39;00m\n",
            "\u001b[0;31mModuleNotFoundError\u001b[0m: No module named 'tensorflow.keras'"
          ]
        }
      ],
      "source": [
        "import pandas as pd\n",
        "import numpy as np\n",
        "import matplotlib.pyplot as plt\n",
        "import seaborn as sns\n",
        "\n",
        "import warnings\n",
        "warnings.filterwarnings(\"ignore\")\n",
        "\n",
        "# Removes the limit for the number of displayed columns\n",
        "pd.set_option(\"display.max_columns\", None)\n",
        "pd.set_option('display.max_colwidth', None)\n",
        "pd.set_option('display.width', None)\n",
        "pd.set_option('display.expand_frame_repr', False)\n",
        "# set the precision of floating numbers to 5 decimal points\n",
        "pd.set_option(\"display.float_format\", lambda x: \"%.5f\" % x)\n",
        "\n",
        "# Sets the limit for the number of displayed rows\n",
        "pd.set_option(\"display.max_rows\", 200)\n",
        "\n",
        "from sklearn.ensemble import RandomForestClassifier\n",
        "\n",
        "# For tuning the model\n",
        "from sklearn.model_selection import GridSearchCV, RandomizedSearchCV\n",
        "\n",
        "# To check model performance\n",
        "from sklearn.metrics import (\n",
        "    auc,\n",
        "    f1_score,\n",
        "    accuracy_score,\n",
        "    recall_score,\n",
        "    precision_score,\n",
        "    confusion_matrix,\n",
        "    roc_auc_score,\n",
        "    classification_report,\n",
        "    precision_recall_curve,\n",
        "    roc_curve,\n",
        "    make_scorer\n",
        ")\n",
        "\n",
        "# used for stats functions like zscore\n",
        "from scipy import stats\n",
        "from scipy.stats import uniform\n",
        "\n",
        "import tensorflow as tf\n",
        "from tensorflow.keras.models import Sequential\n",
        "from tensorflow.keras.layers import Dense\n",
        "from tensorflow.keras.callbacks import EarlyStopping  # Regularization method to prevent the overfitting\n",
        "from tensorflow.keras.callbacks import ModelCheckpoint\n",
        "from tensorflow.keras import backend as K\n",
        "from tensorflow.keras.metrics import Recall, Accuracy\n",
        "from tensorflow.keras.optimizers import Adam, RMSprop, SGD\n",
        "\n",
        "import xgboost as xgb\n",
        "from xgboost import XGBClassifier\n",
        "\n",
        "from scikeras.wrappers import KerasClassifier\n",
        "\n",
        "from sklearn.base import BaseEstimator, TransformerMixin\n",
        "from sklearn.pipeline import Pipeline\n",
        "from sklearn.impute import SimpleImputer\n",
        "from sklearn.preprocessing import StandardScaler, OneHotEncoder\n",
        "from sklearn.compose import ColumnTransformer\n",
        "from sklearn.model_selection import train_test_split\n",
        "\n",
        "from datetime import datetime"
      ]
    },
    {
      "cell_type": "markdown",
      "metadata": {
        "id": "7sm4gXCfeDg5"
      },
      "source": [
        "#**Read Datasets**"
      ]
    },
    {
      "cell_type": "code",
      "execution_count": null,
      "metadata": {
        "id": "kQ4fGFcIbngu"
      },
      "outputs": [],
      "source": [
        "# Read the datasets\n",
        "traveldata_train = pd.read_csv(\"/content/Traveldata_train_(2).csv\")\n",
        "surveydata_train = pd.read_csv(\"/content/Surveydata_train_(2).csv\")\n",
        "traveldata_test = pd.read_csv(\"/content/Traveldata_test_(2).csv\")\n",
        "surveydata_test = pd.read_csv(\"/content/Surveydata_test_(2).csv\")"
      ]
    },
    {
      "cell_type": "markdown",
      "metadata": {
        "id": "95-6jOIkd4X_"
      },
      "source": [
        "#**Data Description**"
      ]
    },
    {
      "cell_type": "code",
      "execution_count": null,
      "metadata": {
        "id": "Ttgbh4fIh0C8"
      },
      "outputs": [],
      "source": [
        "def categorical_value_percentage(df):\n",
        "  # Select only the categorical columns\n",
        "  categorical_columns = df.select_dtypes(include=['object', 'category']).columns\n",
        "\n",
        "  # Iterate through each categorical column\n",
        "  for col in categorical_columns:\n",
        "    # Calculate the value counts and percentage for each category\n",
        "    print(df[col].value_counts(1))\n",
        "    print(\"-\" * 50)"
      ]
    },
    {
      "cell_type": "code",
      "execution_count": null,
      "metadata": {
        "id": "pre7fj4vmc1W"
      },
      "outputs": [],
      "source": [
        "def id_value_count(df):\n",
        "  # Step 1: Count the occurrences of each unique value in the 'ID' column\n",
        "  counts = df['ID'].value_counts()\n",
        "\n",
        "  # Step 2: Filter the counts to find values with more than one occurrence\n",
        "  duplicate_ids = counts[counts > 1]\n",
        "  print(f\"Non unique values: {duplicate_ids.index.tolist()}\")"
      ]
    },
    {
      "cell_type": "markdown",
      "metadata": {
        "id": "l5TEgLjahmA9"
      },
      "source": [
        "##**Travel Data Description**"
      ]
    },
    {
      "cell_type": "code",
      "execution_count": null,
      "metadata": {
        "id": "PNFskSCjcPGb"
      },
      "outputs": [],
      "source": [
        "traveldata_train.head()"
      ]
    },
    {
      "cell_type": "code",
      "execution_count": null,
      "metadata": {
        "id": "YOk8gWGZsyA9"
      },
      "outputs": [],
      "source": [
        "traveldata_test.head()"
      ]
    },
    {
      "cell_type": "code",
      "execution_count": null,
      "metadata": {
        "id": "CDkn9iLkcbP-"
      },
      "outputs": [],
      "source": [
        "traveldata_train.shape"
      ]
    },
    {
      "cell_type": "code",
      "execution_count": null,
      "metadata": {
        "id": "rBUjbXXks3zy"
      },
      "outputs": [],
      "source": [
        "traveldata_test.shape"
      ]
    },
    {
      "cell_type": "code",
      "execution_count": null,
      "metadata": {
        "id": "VIpvuYnVce1W"
      },
      "outputs": [],
      "source": [
        "traveldata_train.info()"
      ]
    },
    {
      "cell_type": "code",
      "execution_count": null,
      "metadata": {
        "id": "8Ir261U-s5t4"
      },
      "outputs": [],
      "source": [
        "traveldata_test.info()"
      ]
    },
    {
      "cell_type": "code",
      "execution_count": null,
      "metadata": {
        "id": "RxbBp8RxckBn"
      },
      "outputs": [],
      "source": [
        "traveldata_train.describe().T"
      ]
    },
    {
      "cell_type": "code",
      "execution_count": null,
      "metadata": {
        "id": "NvDZpAOZs_Rr"
      },
      "outputs": [],
      "source": [
        "traveldata_test.describe().T"
      ]
    },
    {
      "cell_type": "code",
      "execution_count": null,
      "metadata": {
        "id": "x5OrXPDnc5bp"
      },
      "outputs": [],
      "source": [
        "traveldata_train.isnull().sum()"
      ]
    },
    {
      "cell_type": "code",
      "execution_count": null,
      "metadata": {
        "id": "TH9qFOIrtBHE"
      },
      "outputs": [],
      "source": [
        "traveldata_test.isnull().sum()"
      ]
    },
    {
      "cell_type": "code",
      "execution_count": null,
      "metadata": {
        "id": "ReJtC-zrc_DP"
      },
      "outputs": [],
      "source": [
        "traveldata_train.duplicated().sum()"
      ]
    },
    {
      "cell_type": "code",
      "execution_count": null,
      "metadata": {
        "id": "xXgCFRxFtFH1"
      },
      "outputs": [],
      "source": [
        "traveldata_test.duplicated().sum()"
      ]
    },
    {
      "cell_type": "code",
      "execution_count": null,
      "metadata": {
        "id": "58OxEhXSif5r"
      },
      "outputs": [],
      "source": [
        "categorical_value_percentage(traveldata_train)"
      ]
    },
    {
      "cell_type": "code",
      "execution_count": null,
      "metadata": {
        "id": "JJr60GzHtHbb"
      },
      "outputs": [],
      "source": [
        "categorical_value_percentage(traveldata_test)"
      ]
    },
    {
      "cell_type": "code",
      "execution_count": null,
      "metadata": {
        "id": "P14sFRJql32l"
      },
      "outputs": [],
      "source": [
        "id_value_count(traveldata_train)"
      ]
    },
    {
      "cell_type": "code",
      "execution_count": null,
      "metadata": {
        "id": "GhRX6lNutJik"
      },
      "outputs": [],
      "source": [
        "id_value_count(traveldata_test)"
      ]
    },
    {
      "cell_type": "markdown",
      "metadata": {
        "id": "nR3jJBJQhuXr"
      },
      "source": [
        "##**Survey Data Description**"
      ]
    },
    {
      "cell_type": "code",
      "execution_count": null,
      "metadata": {
        "id": "es2_x2WXcoTi"
      },
      "outputs": [],
      "source": [
        "surveydata_train.head()"
      ]
    },
    {
      "cell_type": "code",
      "execution_count": null,
      "metadata": {
        "id": "xB7-DBRFtMxT"
      },
      "outputs": [],
      "source": [
        "surveydata_test.head()"
      ]
    },
    {
      "cell_type": "code",
      "execution_count": null,
      "metadata": {
        "id": "326Piw0vcy6r"
      },
      "outputs": [],
      "source": [
        "surveydata_train.shape"
      ]
    },
    {
      "cell_type": "code",
      "execution_count": null,
      "metadata": {
        "id": "sU9U6RVHtOqj"
      },
      "outputs": [],
      "source": [
        "surveydata_test.shape"
      ]
    },
    {
      "cell_type": "code",
      "execution_count": null,
      "metadata": {
        "id": "tCnjx0pJc00L"
      },
      "outputs": [],
      "source": [
        "surveydata_train.info()"
      ]
    },
    {
      "cell_type": "code",
      "execution_count": null,
      "metadata": {
        "id": "zyMo7cThtQW8"
      },
      "outputs": [],
      "source": [
        "surveydata_test.info()"
      ]
    },
    {
      "cell_type": "code",
      "execution_count": null,
      "metadata": {
        "id": "e-ENZ7rzc2ZY"
      },
      "outputs": [],
      "source": [
        "surveydata_train.describe().T"
      ]
    },
    {
      "cell_type": "code",
      "execution_count": null,
      "metadata": {
        "id": "b5jHIo_YtSOy"
      },
      "outputs": [],
      "source": [
        "surveydata_test.describe().T"
      ]
    },
    {
      "cell_type": "code",
      "execution_count": null,
      "metadata": {
        "id": "BDIDLfs5dBpI"
      },
      "outputs": [],
      "source": [
        "surveydata_train.isnull().sum()"
      ]
    },
    {
      "cell_type": "code",
      "execution_count": null,
      "metadata": {
        "id": "uVsV727RtV8P"
      },
      "outputs": [],
      "source": [
        "surveydata_test.isnull().sum()"
      ]
    },
    {
      "cell_type": "code",
      "execution_count": null,
      "metadata": {
        "id": "1DW72LxHdDZn"
      },
      "outputs": [],
      "source": [
        "surveydata_train.duplicated().sum()"
      ]
    },
    {
      "cell_type": "code",
      "execution_count": null,
      "metadata": {
        "id": "7Dv0PFDQtXqb"
      },
      "outputs": [],
      "source": [
        "surveydata_test.duplicated().sum()"
      ]
    },
    {
      "cell_type": "code",
      "execution_count": null,
      "metadata": {
        "id": "52N-8SZNkE-m"
      },
      "outputs": [],
      "source": [
        "categorical_value_percentage(surveydata_train)"
      ]
    },
    {
      "cell_type": "code",
      "execution_count": null,
      "metadata": {
        "id": "eaZGK_d9ta0i"
      },
      "outputs": [],
      "source": [
        "categorical_value_percentage(surveydata_test)"
      ]
    },
    {
      "cell_type": "code",
      "execution_count": null,
      "metadata": {
        "id": "HDWyQVNHne0R"
      },
      "outputs": [],
      "source": [
        "id_value_count(surveydata_train)"
      ]
    },
    {
      "cell_type": "code",
      "execution_count": null,
      "metadata": {
        "id": "Eo-0zhIxtcJb"
      },
      "outputs": [],
      "source": [
        "id_value_count(surveydata_test)"
      ]
    },
    {
      "cell_type": "markdown",
      "metadata": {
        "id": "7Y5WwaSddJ-s"
      },
      "source": [
        "#**Perform Data Preprocessing**"
      ]
    },
    {
      "cell_type": "code",
      "execution_count": null,
      "metadata": {
        "id": "ZNjp7qWvdS1j"
      },
      "outputs": [],
      "source": [
        "from sklearn.base import BaseEstimator, TransformerMixin\n",
        "\n",
        "class OutlierRemover(BaseEstimator, TransformerMixin):\n",
        "  def __init__(self, threshold=3.0):\n",
        "    self.threshold = threshold\n",
        "\n",
        "  def fit(self, X, y=None):\n",
        "    return self\n",
        "\n",
        "  def transform(self, X):\n",
        "    # Compute z-scores\n",
        "    z_scores = np.abs((X - np.mean(X, axis=0)) / np.std(X, axis=0))\n",
        "    # Keep only rows where all z-scores are below the threshold\n",
        "    mask = (z_scores < self.threshold).all(axis=1)\n",
        "    return X[mask]\n",
        "\n",
        "class DropMissingValues(BaseEstimator, TransformerMixin):\n",
        "  def __init__(self, threshold=0.5):\n",
        "    self.threshold = threshold\n",
        "\n",
        "  def fit(self, X, y=None):\n",
        "    return self\n",
        "\n",
        "  def transform(self, X):\n",
        "    # Calculate the threshold for dropping rows\n",
        "    missing_threshold = int(self.threshold * X.shape[1])\n",
        "    # Drop rows where the number of missing values exceeds the threshold\n",
        "    mask = (X.isnull().sum(axis=1) <= missing_threshold)\n",
        "    X_filtered = X[mask]\n",
        "    return X_filtered.reset_index(drop=True)"
      ]
    },
    {
      "cell_type": "code",
      "execution_count": null,
      "metadata": {
        "id": "BaJGqS1tzCHo"
      },
      "outputs": [],
      "source": [
        "# Join the training data on the ID for train and test\n",
        "train_data = pd.merge(traveldata_train, surveydata_train, on='ID', how='inner')\n",
        "test_data = pd.merge(traveldata_test, surveydata_test, on='ID', how='inner')\n",
        "\n",
        "# Drop the ID column since it won't be needed anymore\n",
        "train_data = train_data.drop('ID', axis=1)\n",
        "\n",
        "print(train_data.head())\n",
        "print('-'*50)\n",
        "print(train_data.shape)\n",
        "print('-'*50)\n",
        "print(train_data.info())"
      ]
    },
    {
      "cell_type": "code",
      "execution_count": null,
      "metadata": {
        "id": "asTk_11G8Lma"
      },
      "outputs": [],
      "source": [
        "# convert object columns to categorical\n",
        "categorical_columns = train_data.select_dtypes(include=['object']).columns\n",
        "train_data[categorical_columns] = train_data[categorical_columns].astype('category')\n",
        "print(train_data.info())"
      ]
    },
    {
      "cell_type": "markdown",
      "source": [
        "##**Preprocessing Pipeline**"
      ],
      "metadata": {
        "id": "4S7SaQxhneK1"
      }
    },
    {
      "cell_type": "code",
      "execution_count": null,
      "metadata": {
        "id": "i7JOF6pcEUGw"
      },
      "outputs": [],
      "source": [
        "# Update the X and y sets for the target column\n",
        "X = train_data.drop(columns=['Overall_Experience'])\n",
        "y = train_data['Overall_Experience']\n",
        "\n",
        "# Define the numerical and categorical columns\n",
        "numeric_features = X.select_dtypes(include=['int64', 'float64']).columns\n",
        "categorical_features = X.select_dtypes(include=['category']).columns\n",
        "\n",
        "# Define the preprocessing pipeline\n",
        "numeric_transformer = Pipeline(steps=[\n",
        "  ('imputer', SimpleImputer(strategy='mean')),\n",
        "  ('scaler', StandardScaler())\n",
        "])\n",
        "\n",
        "categorical_transformer = Pipeline(steps=[\n",
        "  ('imputer', SimpleImputer(strategy='constant', fill_value='missing')),\n",
        "  ('onehot', OneHotEncoder(drop='first', handle_unknown='ignore'))\n",
        "])\n",
        "\n",
        "preprocessor = ColumnTransformer(\n",
        "  transformers=[\n",
        "    ('num', numeric_transformer, numeric_features),\n",
        "    ('cat', categorical_transformer, categorical_features)\n",
        "  ])\n",
        "\n",
        "# Create the full pipeline\n",
        "pipeline = Pipeline(steps=[\n",
        "  ('drop_missing', DropMissingValues(threshold=0.5)),\n",
        "  ('preprocessor', preprocessor)\n",
        "])\n",
        "\n",
        "# Fit the pipeline on the training data\n",
        "pipeline.fit(X)\n",
        "\n",
        "# Transform the training data\n",
        "X_processed = pipeline.transform(X)\n",
        "\n",
        "# Convert the processed data back to dataframes\n",
        "# Note: We need to get the feature names from the column transformer\n",
        "numeric_feature_names = numeric_features\n",
        "categorical_feature_names = pipeline.named_steps['preprocessor'].named_transformers_['cat']['onehot'].get_feature_names_out(categorical_features)\n",
        "all_feature_names = list(numeric_feature_names) + list(categorical_feature_names)\n",
        "\n",
        "# Verify the shape\n",
        "print(\"Expected number of features:\", len(all_feature_names))\n",
        "print(\"Shape of processed train data:\", X_processed.shape)\n",
        "\n",
        "X_processed_df = pd.DataFrame(X_processed.toarray(), columns=all_feature_names)\n",
        "\n",
        "print(X_processed_df.head())\n",
        "print('-'*50)\n",
        "print(X_processed_df.shape)\n",
        "print('-'*50)\n",
        "print(X_processed_df.info())"
      ]
    },
    {
      "cell_type": "markdown",
      "metadata": {
        "id": "6QRIq-7lhFjU"
      },
      "source": [
        "#**Model Performance Evaluation**"
      ]
    },
    {
      "cell_type": "code",
      "execution_count": null,
      "metadata": {
        "id": "SeD0-0-yhIb-"
      },
      "outputs": [],
      "source": [
        "# Function to compute different metrics to check performance of the classification models\n",
        "def model_performance_classification(model, x_test, y_test, y_pred, name='test'):\n",
        "  \"\"\"\n",
        "  Function to compute different metrics to check classification model performance\n",
        "\n",
        "  model: classifier\n",
        "  x_test: independent variables\n",
        "  y_test: dependent variable\n",
        "  y_pred: predictions\n",
        "  name: optional name of the model\n",
        "  \"\"\"\n",
        "  accuracy = accuracy_score(y_test, y_pred)\n",
        "  print(f'{name} Accuracy: {accuracy}')\n",
        "  print('Classification Report:')\n",
        "  print(classification_report(y_test, y_pred))\n",
        "\n",
        "  # Generate the classification report as a dictionary\n",
        "  report_dict = classification_report(y_test, y_pred, output_dict=True)\n",
        "\n",
        "  new_report_dict = {\n",
        "    'name': name,\n",
        "    'precision': report_dict['1']['precision'],\n",
        "    'recall': report_dict['1']['recall'],\n",
        "    'f1-score': report_dict['1']['f1-score'],\n",
        "    'accuracy': report_dict['accuracy']\n",
        "  }\n",
        "\n",
        "  # Convert the report to a DataFrame\n",
        "  report_df = pd.DataFrame(new_report_dict, index=[0])\n",
        "\n",
        "  cm = confusion_matrix(y_test, y_pred)\n",
        "\n",
        "  # Create a heatmap to visualize the confusion matrix\n",
        "  plt.figure(figsize=(8, 6))\n",
        "  sns.heatmap(cm, annot=True, fmt='d', cmap='Blues', cbar=False,\n",
        "              xticklabels=['Predicted Negative', 'Predicted Positive'],\n",
        "              yticklabels=['Actual Negative', 'Actual Positive'])\n",
        "\n",
        "  plt.xlabel('Predicted Labels')\n",
        "  plt.ylabel('True Labels')\n",
        "  plt.title('Confusion Matrix')\n",
        "  plt.show()\n",
        "\n",
        "  return report_df"
      ]
    },
    {
      "cell_type": "markdown",
      "metadata": {
        "id": "ELohamu9eKSl"
      },
      "source": [
        "#**Model Building**"
      ]
    },
    {
      "cell_type": "code",
      "execution_count": null,
      "metadata": {
        "id": "W-5cJ66iXncO"
      },
      "outputs": [],
      "source": [
        "# Split the data into training and testing sets\n",
        "X_train, X_validation, y_train, y_validation = train_test_split(X_processed_df, y, test_size=0.2, random_state=42)\n",
        "\n",
        "# Apply the same preprocessing pipeline to the test data\n",
        "X_test = test_data\n",
        "X_test_processed = pipeline.transform(X_test)\n",
        "X_test_processed_df = pd.DataFrame(X_test_processed.toarray(), columns=all_feature_names)"
      ]
    },
    {
      "cell_type": "markdown",
      "metadata": {
        "id": "icDvgfgtXn7B"
      },
      "source": [
        "##**Random Forest Classifier**"
      ]
    },
    {
      "cell_type": "code",
      "execution_count": 89,
      "metadata": {
        "colab": {
          "base_uri": "https://localhost:8080/",
          "height": 827
        },
        "id": "kCrNAKLhU5-y",
        "outputId": "690e64e7-837a-43f1-a3d6-aa88a3c8a6d4"
      },
      "outputs": [
        {
          "output_type": "stream",
          "name": "stdout",
          "text": [
            "Best Parameters: {'n_estimators': 500, 'min_samples_split': 2, 'min_samples_leaf': 1, 'max_depth': None, 'criterion': 'log_loss', 'class_weight': 'balanced_subsample', 'bootstrap': False}\n",
            "Best accuracy: 0.9520416866388832\n",
            "Random Forest Accuracy: 0.9519495655859292\n",
            "Classification Report:\n",
            "              precision    recall  f1-score   support\n",
            "\n",
            "           0       0.94      0.96      0.95      8405\n",
            "           1       0.96      0.95      0.96     10471\n",
            "\n",
            "    accuracy                           0.95     18876\n",
            "   macro avg       0.95      0.95      0.95     18876\n",
            "weighted avg       0.95      0.95      0.95     18876\n",
            "\n"
          ]
        },
        {
          "output_type": "display_data",
          "data": {
            "text/plain": [
              "<Figure size 800x600 with 1 Axes>"
            ],
            "image/png": "[encoded data removed]"
          },
          "metadata": {}
        },
        {
          "output_type": "stream",
          "name": "stdout",
          "text": [
            "Elapsed time: 0:02:13.845616\n"
          ]
        }
      ],
      "source": [
        "rf_classifier = RandomForestClassifier(random_state = 42)\n",
        "\n",
        "# Grid of parameters to choose from\n",
        "param_grid = {\n",
        "    'n_estimators': [\n",
        "        # 100,\n",
        "        # 150,\n",
        "        # 200,\n",
        "        # 300,\n",
        "        500\n",
        "    ],\n",
        "    'max_depth': [\n",
        "        None,\n",
        "        # 10,\n",
        "        # 20\n",
        "    ],\n",
        "    'min_samples_split': [\n",
        "        2,\n",
        "        # 5,\n",
        "        # 20\n",
        "    ],\n",
        "    'min_samples_leaf': [\n",
        "        1,\n",
        "        # 10,\n",
        "        # 15\n",
        "    ],\n",
        "    'bootstrap': [\n",
        "        # True,\n",
        "        False\n",
        "    ],\n",
        "    'class_weight': [\n",
        "        # None,\n",
        "        # 'balanced',\n",
        "        'balanced_subsample'\n",
        "    ],\n",
        "    'criterion': [\n",
        "        # 'gini',\n",
        "        # 'entropy',\n",
        "        'log_loss'\n",
        "    ]\n",
        "}\n",
        "\n",
        "start_time = datetime.now()\n",
        "\n",
        "# Setup the gridsearch with tuning using f1 due to imbalanced target classes\n",
        "rf_grid = RandomizedSearchCV(estimator=rf_classifier, param_distributions=param_grid,\n",
        "                              scoring = 'accuracy', cv = 5, n_jobs=-1, random_state=42,\n",
        "                              n_iter=1)\n",
        "\n",
        "# train using the raw data without removing the outliers bc tree algos work fine with them\n",
        "rf_grid = rf_grid.fit(X_train, y_train)\n",
        "\n",
        "# print the best params\n",
        "print(f'Best Parameters: {rf_grid.best_params_}')\n",
        "print(f'Best accuracy: {rf_grid.best_score_}')\n",
        "\n",
        "# Set the tuned_classifier to the best combination of parameters\n",
        "rf_best_classifier = rf_grid.best_estimator_\n",
        "\n",
        "# Calculate Predictions\n",
        "y_pred = rf_best_classifier.predict(X_validation)\n",
        "\n",
        "# Model Performance on the validation data\n",
        "rf_best_report = model_performance_classification(rf_best_classifier, X_validation, y_validation, y_pred, 'Random Forest')\n",
        "\n",
        "# Make predictions\n",
        "y_test_pred = rf_best_classifier.predict(X_test_processed_df)\n",
        "\n",
        "end_time = datetime.now()\n",
        "print(f'Elapsed time: {end_time - start_time}')\n",
        "\n",
        "# Output predictions into a csv\n",
        "output = pd.DataFrame({'ID': test_data['ID'], 'Overall_Experience': y_test_pred})\n",
        "output.to_csv('random_forest_predictions.csv', index=False)"
      ]
    },
    {
      "cell_type": "markdown",
      "metadata": {
        "id": "Pp8SwAsJmo-o"
      },
      "source": [
        "##**XGBoost Classifier**"
      ]
    },
    {
      "cell_type": "code",
      "execution_count": null,
      "metadata": {
        "id": "DrIY0vy_msRz"
      },
      "outputs": [],
      "source": [
        "# XGBoost Classifier\n",
        "xgb_classifier = XGBClassifier(objective='multi:softmax', use_label_encoder=False,\n",
        "                               eval_metric='merror', random_state=42, num_class=len(np.unique(y_train)))\n",
        "\n",
        "param_grid = {\n",
        "    'n_estimators': [\n",
        "        100,\n",
        "        # 200,\n",
        "        300,\n",
        "        500\n",
        "    ],\n",
        "    'max_depth': [\n",
        "        3,\n",
        "        4,\n",
        "        5,\n",
        "        6,\n",
        "        7,\n",
        "        8\n",
        "    ],\n",
        "    'learning_rate': [\n",
        "        0.01,\n",
        "        0.05,\n",
        "        0.1,\n",
        "        0.15,\n",
        "        0.2,\n",
        "        0.25,\n",
        "        0.3\n",
        "    ],\n",
        "    'subsample': [\n",
        "        # 0.5,\n",
        "        # 0.55,\n",
        "        # 0.6,\n",
        "        0.65,\n",
        "        0.7,\n",
        "        0.75,\n",
        "        0.8,\n",
        "        0.9,\n",
        "        0.95,\n",
        "        1.0\n",
        "    ],\n",
        "    'colsample_bytree': [\n",
        "        # 0.5,\n",
        "        # 0.55,\n",
        "        # 0.6,\n",
        "        0.65,\n",
        "        0.7,\n",
        "        0.75,\n",
        "        0.8,\n",
        "        0.9,\n",
        "        0.95,\n",
        "        1.0\n",
        "    ],\n",
        "    'min_child_weight': [\n",
        "        1,\n",
        "        2,\n",
        "        3,\n",
        "        # 4,\n",
        "        # 5\n",
        "    ]\n",
        "}\n",
        "\n",
        "start_time = datetime.now()\n",
        "\n",
        "# Setup the gridsearch with tuning using f1 due to imbalanced target classes\n",
        "# xgb_grid = RandomizedSearchCV(estimator=xgb_classifier, param_distributions=param_grid,\n",
        "#                               scoring='accuracy', cv=5, n_jobs=-1, random_state=42,\n",
        "#                               n_iter=1)\n",
        "xgb_grid = GridSearchCV(estimator=xgb_classifier, param_grid=param_grid,\n",
        "                        scoring='accuracy', cv=5, n_jobs=-1)\n",
        "\n",
        "# train using the raw data without removing the outliers bc tree algos work fine with them\n",
        "xgb_grid = xgb_grid.fit(X_train, y_train)\n",
        "\n",
        "# print the best params\n",
        "print(f'Best Parameters: {xgb_grid.best_params_}')\n",
        "print(f'Best accuracy: {xgb_grid.best_score_}')\n",
        "\n",
        "# Set the tuned_classifier to the best combination of parameters\n",
        "xgb_best_classifier = xgb_grid.best_estimator_\n",
        "\n",
        "# Calculate Predictions\n",
        "y_pred = xgb_best_classifier.predict(X_validation)\n",
        "\n",
        "# Model Performance on the validation data\n",
        "xgb_best_report = model_performance_classification(xgb_best_classifier, X_validation, y_validation, y_pred, 'XGBoost')\n",
        "\n",
        "# Make predictions on the test data\n",
        "y_test_pred = xgb_best_classifier.predict(X_test_processed_df)\n",
        "\n",
        "end_time = datetime.now()\n",
        "print(f'Elapsed time: {end_time - start_time}')\n",
        "\n",
        "# Output predictions into a csv\n",
        "output = pd.DataFrame({'ID': test_data['ID'], 'Overall_Experience': y_test_pred})\n",
        "output.to_csv('xgb_predictions.csv', index=False)"
      ]
    },
    {
      "cell_type": "markdown",
      "metadata": {
        "id": "UMmYU_Gyonxl"
      },
      "source": [
        "##**ANN Classifier**"
      ]
    },
    {
      "cell_type": "code",
      "execution_count": null,
      "metadata": {
        "colab": {
          "background_save": true
        },
        "id": "6z2Lnsf5or82"
      },
      "outputs": [],
      "source": [
        "# Define the model creation function\n",
        "def create_model(input_dimen, optimizer='adam', init='uniform', layers=1, first_layer_neurons=32, learning_rate=0.001):\n",
        "    model = Sequential()\n",
        "    model.add(Dense(first_layer_neurons, input_dim=input_dimen, kernel_initializer=init, activation='relu'))\n",
        "    for i in range(1, layers):\n",
        "        model.add(Dense(first_layer_neurons // (2 ** i), kernel_initializer=init, activation='relu'))\n",
        "    model.add(Dense(1, kernel_initializer=init, activation='sigmoid'))\n",
        "\n",
        "    if optimizer == 'adam':\n",
        "        optimizer = Adam(learning_rate=learning_rate)\n",
        "    elif optimizer == 'rmsprop':\n",
        "        optimizer = RMSprop(learning_rate=learning_rate)\n",
        "    elif optimizer == 'sgd':\n",
        "        optimizer = SGD(learning_rate=learning_rate)\n",
        "\n",
        "    # need to track accuracy and recall as metrics during training\n",
        "    model.compile(optimizer=optimizer, loss='binary_crossentropy', metrics=[Accuracy()])\n",
        "    return model"
      ]
    },
    {
      "cell_type": "code",
      "execution_count": null,
      "metadata": {
        "colab": {
          "background_save": true
        },
        "id": "OAjDOtYro00B",
        "outputId": "3ce4e8c8-568f-476a-e096-805e1ec1f3a1"
      },
      "outputs": [
        {
          "name": "stdout",
          "output_type": "stream",
          "text": [
            "Best Parameters: {'model__optimizer': 'sgd', 'model__learning_rate': 0.1, 'model__layers': 2, 'model__input_dimen': 78, 'model__init': 'uniform', 'model__first_layer_neurons': 16, 'epochs': 150}\n",
            "Best accuracy: 0.9476180069650226\n",
            "ANN Accuracy: 0.9495655859292222\n",
            "Classification Report:\n",
            "              precision    recall  f1-score   support\n",
            "\n",
            "           0       0.92      0.97      0.94      8405\n",
            "           1       0.98      0.93      0.95     10471\n",
            "\n",
            "    accuracy                           0.95     18876\n",
            "   macro avg       0.95      0.95      0.95     18876\n",
            "weighted avg       0.95      0.95      0.95     18876\n",
            "\n"
          ]
        },
        {
          "data": {
            "image/png": "[encoded data removed]",
            "text/plain": [
              "<Figure size 800x600 with 1 Axes>"
            ]
          },
          "metadata": {},
          "output_type": "display_data"
        },
        {
          "name": "stdout",
          "output_type": "stream",
          "text": [
            "Elapsed time: 7:07:04.415669\n"
          ]
        }
      ],
      "source": [
        "# Wrap the model using KerasClassifier\n",
        "ann_classifier = KerasClassifier(build_fn=create_model, verbose=0)\n",
        "\n",
        "# Define the parameter grid for hyperparameter tuning\n",
        "param_grid = {\n",
        "    'model__optimizer': [\n",
        "        'adam',\n",
        "        'rmsprop',\n",
        "        'sgd'\n",
        "    ],\n",
        "    'model__init': [\n",
        "        'uniform',\n",
        "        'normal',\n",
        "        'glorot_uniform'\n",
        "    ],\n",
        "    'model__layers': [\n",
        "        1,\n",
        "        2,\n",
        "        3\n",
        "    ],\n",
        "    'model__first_layer_neurons': [\n",
        "        16,\n",
        "        32,\n",
        "        64,\n",
        "        128\n",
        "    ],\n",
        "    'model__input_dimen': [\n",
        "        X_train.shape[1]\n",
        "    ],\n",
        "    'model__learning_rate': [\n",
        "        0.001,\n",
        "        0.01,\n",
        "        0.1\n",
        "    ],\n",
        "    'epochs': [\n",
        "        100,\n",
        "        150\n",
        "    ]\n",
        "}\n",
        "\n",
        "start_time = datetime.now()\n",
        "\n",
        "# Setup the gridsearch with tuning using f1 due to imbalanced target classes\n",
        "ann_grid = RandomizedSearchCV(estimator=ann_classifier, param_distributions=param_grid,\n",
        "                              scoring='accuracy', cv=5, n_jobs=-1, random_state=42,\n",
        "                              n_iter=60)\n",
        "\n",
        "# train using the raw data without removing the outliers bc tree algos work fine with them\n",
        "ann_grid = ann_grid.fit(X_train, y_train)\n",
        "\n",
        "# print the best params\n",
        "print(f'Best Parameters: {ann_grid.best_params_}')\n",
        "print(f'Best accuracy: {ann_grid.best_score_}')\n",
        "\n",
        "# Set the tuned_classifier to the best combination of parameters\n",
        "ann_best_classifier = ann_grid.best_estimator_\n",
        "\n",
        "# Calculate Predictions\n",
        "y_pred = ann_best_classifier.predict(X_validation)\n",
        "\n",
        "# Model Performance on the validation data\n",
        "ann_best_report = model_performance_classification(ann_best_classifier, X_validation, y_validation, y_pred, 'ANN')\n",
        "\n",
        "# Make predictions on the test data\n",
        "y_test_pred = ann_best_classifier.predict(X_test_processed_df)\n",
        "\n",
        "end_time = datetime.now()\n",
        "print(f'Elapsed time: {end_time - start_time}')\n",
        "\n",
        "# Output predictions into a csv\n",
        "output = pd.DataFrame({'ID': test_data['ID'], 'Overall_Experience': y_test_pred})\n",
        "output.to_csv('ann_predictions.csv', index=False)"
      ]
    },
    {
      "cell_type": "markdown",
      "metadata": {
        "id": "mgzYg62uePLa"
      },
      "source": [
        "#**Model Comparison and Summary**"
      ]
    },
    {
      "cell_type": "code",
      "execution_count": null,
      "metadata": {
        "colab": {
          "background_save": true
        },
        "id": "Mpzw7-pKjiYv",
        "outputId": "62d5b2a4-7e22-4782-dc4d-8a25390a6b18"
      },
      "outputs": [
        {
          "data": {
            "application/vnd.google.colaboratory.intrinsic+json": {
              "summary": "{\n  \"name\": \"summary\",\n  \"rows\": 3,\n  \"fields\": [\n    {\n      \"column\": \"name\",\n      \"properties\": {\n        \"dtype\": \"string\",\n        \"num_unique_values\": 3,\n        \"samples\": [\n          \"Random Forest\",\n          \"XGBoost\",\n          \"ANN\"\n        ],\n        \"semantic_type\": \"\",\n        \"description\": \"\"\n      }\n    },\n    {\n      \"column\": \"precision\",\n      \"properties\": {\n        \"dtype\": \"number\",\n        \"std\": 0.007197324553676643,\n        \"min\": 0.9631961259079903,\n        \"max\": 0.9765695404025233,\n        \"num_unique_values\": 3,\n        \"samples\": [\n          0.9631961259079903,\n          0.9652710785259502,\n          0.9765695404025233\n        ],\n        \"semantic_type\": \"\",\n        \"description\": \"\"\n      }\n    },\n    {\n      \"column\": \"recall\",\n      \"properties\": {\n        \"dtype\": \"number\",\n        \"std\": 0.012609260040422232,\n        \"min\": 0.9314296628784261,\n        \"max\": 0.9555916340368638,\n        \"num_unique_values\": 3,\n        \"samples\": [\n          0.9497660204373986,\n          0.9555916340368638,\n          0.9314296628784261\n        ],\n        \"semantic_type\": \"\",\n        \"description\": \"\"\n      }\n    },\n    {\n      \"column\": \"f1-score\",\n      \"properties\": {\n        \"dtype\": \"number\",\n        \"std\": 0.0034827642513024885,\n        \"min\": 0.9534656369146545,\n        \"max\": 0.9604069683735662,\n        \"num_unique_values\": 3,\n        \"samples\": [\n          0.9564339296018465,\n          0.9604069683735662,\n          0.9534656369146545\n        ],\n        \"semantic_type\": \"\",\n        \"description\": \"\"\n      }\n    },\n    {\n      \"column\": \"accuracy\",\n      \"properties\": {\n        \"dtype\": \"number\",\n        \"std\": 0.003406377502683956,\n        \"min\": 0.9495655859292222,\n        \"max\": 0.9562937062937062,\n        \"num_unique_values\": 3,\n        \"samples\": [\n          0.9520025429116338,\n          0.9562937062937062,\n          0.9495655859292222\n        ],\n        \"semantic_type\": \"\",\n        \"description\": \"\"\n      }\n    }\n  ]\n}",
              "type": "dataframe",
              "variable_name": "summary"
            },
            "text/html": [
              "\n",
              "  <div id=\"df-a36db5f5-9915-4f81-bb7e-4d59e176158c\" class=\"colab-df-container\">\n",
              "    <div>\n",
              "<style scoped>\n",
              "    .dataframe tbody tr th:only-of-type {\n",
              "        vertical-align: middle;\n",
              "    }\n",
              "\n",
              "    .dataframe tbody tr th {\n",
              "        vertical-align: top;\n",
              "    }\n",
              "\n",
              "    .dataframe thead th {\n",
              "        text-align: right;\n",
              "    }\n",
              "</style>\n",
              "<table border=\"1\" class=\"dataframe\">\n",
              "  <thead>\n",
              "    <tr style=\"text-align: right;\">\n",
              "      <th></th>\n",
              "      <th>name</th>\n",
              "      <th>precision</th>\n",
              "      <th>recall</th>\n",
              "      <th>f1-score</th>\n",
              "      <th>accuracy</th>\n",
              "    </tr>\n",
              "  </thead>\n",
              "  <tbody>\n",
              "    <tr>\n",
              "      <th>0</th>\n",
              "      <td>Random Forest</td>\n",
              "      <td>0.96320</td>\n",
              "      <td>0.94977</td>\n",
              "      <td>0.95643</td>\n",
              "      <td>0.95200</td>\n",
              "    </tr>\n",
              "    <tr>\n",
              "      <th>1</th>\n",
              "      <td>XGBoost</td>\n",
              "      <td>0.96527</td>\n",
              "      <td>0.95559</td>\n",
              "      <td>0.96041</td>\n",
              "      <td>0.95629</td>\n",
              "    </tr>\n",
              "    <tr>\n",
              "      <th>2</th>\n",
              "      <td>ANN</td>\n",
              "      <td>0.97657</td>\n",
              "      <td>0.93143</td>\n",
              "      <td>0.95347</td>\n",
              "      <td>0.94957</td>\n",
              "    </tr>\n",
              "  </tbody>\n",
              "</table>\n",
              "</div>\n",
              "    <div class=\"colab-df-buttons\">\n",
              "\n",
              "  <div class=\"colab-df-container\">\n",
              "    <button class=\"colab-df-convert\" onclick=\"convertToInteractive('df-a36db5f5-9915-4f81-bb7e-4d59e176158c')\"\n",
              "            title=\"Convert this dataframe to an interactive table.\"\n",
              "            style=\"display:none;\">\n",
              "\n",
              "  <svg xmlns=\"http://www.w3.org/2000/svg\" height=\"24px\" viewBox=\"0 -960 960 960\">\n",
              "    <path d=\"M120-120v-720h720v720H120Zm60-500h600v-160H180v160Zm220 220h160v-160H400v160Zm0 220h160v-160H400v160ZM180-400h160v-160H180v160Zm440 0h160v-160H620v160ZM180-180h160v-160H180v160Zm440 0h160v-160H620v160Z\"/>\n",
              "  </svg>\n",
              "    </button>\n",
              "\n",
              "  <style>\n",
              "    .colab-df-container {\n",
              "      display:flex;\n",
              "      gap: 12px;\n",
              "    }\n",
              "\n",
              "    .colab-df-convert {\n",
              "      background-color: #E8F0FE;\n",
              "      border: none;\n",
              "      border-radius: 50%;\n",
              "      cursor: pointer;\n",
              "      display: none;\n",
              "      fill: #1967D2;\n",
              "      height: 32px;\n",
              "      padding: 0 0 0 0;\n",
              "      width: 32px;\n",
              "    }\n",
              "\n",
              "    .colab-df-convert:hover {\n",
              "      background-color: #E2EBFA;\n",
              "      box-shadow: 0px 1px 2px rgba(60, 64, 67, 0.3), 0px 1px 3px 1px rgba(60, 64, 67, 0.15);\n",
              "      fill: #174EA6;\n",
              "    }\n",
              "\n",
              "    .colab-df-buttons div {\n",
              "      margin-bottom: 4px;\n",
              "    }\n",
              "\n",
              "    [theme=dark] .colab-df-convert {\n",
              "      background-color: #3B4455;\n",
              "      fill: #D2E3FC;\n",
              "    }\n",
              "\n",
              "    [theme=dark] .colab-df-convert:hover {\n",
              "      background-color: #434B5C;\n",
              "      box-shadow: 0px 1px 3px 1px rgba(0, 0, 0, 0.15);\n",
              "      filter: drop-shadow(0px 1px 2px rgba(0, 0, 0, 0.3));\n",
              "      fill: #FFFFFF;\n",
              "    }\n",
              "  </style>\n",
              "\n",
              "    <script>\n",
              "      const buttonEl =\n",
              "        document.querySelector('#df-a36db5f5-9915-4f81-bb7e-4d59e176158c button.colab-df-convert');\n",
              "      buttonEl.style.display =\n",
              "        google.colab.kernel.accessAllowed ? 'block' : 'none';\n",
              "\n",
              "      async function convertToInteractive(key) {\n",
              "        const element = document.querySelector('#df-a36db5f5-9915-4f81-bb7e-4d59e176158c');\n",
              "        const dataTable =\n",
              "          await google.colab.kernel.invokeFunction('convertToInteractive',\n",
              "                                                    [key], {});\n",
              "        if (!dataTable) return;\n",
              "\n",
              "        const docLinkHtml = 'Like what you see? Visit the ' +\n",
              "          '<a target=\"_blank\" href=https://colab.research.google.com/notebooks/data_table.ipynb>data table notebook</a>'\n",
              "          + ' to learn more about interactive tables.';\n",
              "        element.innerHTML = '';\n",
              "        dataTable['output_type'] = 'display_data';\n",
              "        await google.colab.output.renderOutput(dataTable, element);\n",
              "        const docLink = document.createElement('div');\n",
              "        docLink.innerHTML = docLinkHtml;\n",
              "        element.appendChild(docLink);\n",
              "      }\n",
              "    </script>\n",
              "  </div>\n",
              "\n",
              "\n",
              "<div id=\"df-883f1fe0-6833-45cf-a028-3681a76e85d4\">\n",
              "  <button class=\"colab-df-quickchart\" onclick=\"quickchart('df-883f1fe0-6833-45cf-a028-3681a76e85d4')\"\n",
              "            title=\"Suggest charts\"\n",
              "            style=\"display:none;\">\n",
              "\n",
              "<svg xmlns=\"http://www.w3.org/2000/svg\" height=\"24px\"viewBox=\"0 0 24 24\"\n",
              "     width=\"24px\">\n",
              "    <g>\n",
              "        <path d=\"M19 3H5c-1.1 0-2 .9-2 2v14c0 1.1.9 2 2 2h14c1.1 0 2-.9 2-2V5c0-1.1-.9-2-2-2zM9 17H7v-7h2v7zm4 0h-2V7h2v10zm4 0h-2v-4h2v4z\"/>\n",
              "    </g>\n",
              "</svg>\n",
              "  </button>\n",
              "\n",
              "<style>\n",
              "  .colab-df-quickchart {\n",
              "      --bg-color: #E8F0FE;\n",
              "      --fill-color: #1967D2;\n",
              "      --hover-bg-color: #E2EBFA;\n",
              "      --hover-fill-color: #174EA6;\n",
              "      --disabled-fill-color: #AAA;\n",
              "      --disabled-bg-color: #DDD;\n",
              "  }\n",
              "\n",
              "  [theme=dark] .colab-df-quickchart {\n",
              "      --bg-color: #3B4455;\n",
              "      --fill-color: #D2E3FC;\n",
              "      --hover-bg-color: #434B5C;\n",
              "      --hover-fill-color: #FFFFFF;\n",
              "      --disabled-bg-color: #3B4455;\n",
              "      --disabled-fill-color: #666;\n",
              "  }\n",
              "\n",
              "  .colab-df-quickchart {\n",
              "    background-color: var(--bg-color);\n",
              "    border: none;\n",
              "    border-radius: 50%;\n",
              "    cursor: pointer;\n",
              "    display: none;\n",
              "    fill: var(--fill-color);\n",
              "    height: 32px;\n",
              "    padding: 0;\n",
              "    width: 32px;\n",
              "  }\n",
              "\n",
              "  .colab-df-quickchart:hover {\n",
              "    background-color: var(--hover-bg-color);\n",
              "    box-shadow: 0 1px 2px rgba(60, 64, 67, 0.3), 0 1px 3px 1px rgba(60, 64, 67, 0.15);\n",
              "    fill: var(--button-hover-fill-color);\n",
              "  }\n",
              "\n",
              "  .colab-df-quickchart-complete:disabled,\n",
              "  .colab-df-quickchart-complete:disabled:hover {\n",
              "    background-color: var(--disabled-bg-color);\n",
              "    fill: var(--disabled-fill-color);\n",
              "    box-shadow: none;\n",
              "  }\n",
              "\n",
              "  .colab-df-spinner {\n",
              "    border: 2px solid var(--fill-color);\n",
              "    border-color: transparent;\n",
              "    border-bottom-color: var(--fill-color);\n",
              "    animation:\n",
              "      spin 1s steps(1) infinite;\n",
              "  }\n",
              "\n",
              "  @keyframes spin {\n",
              "    0% {\n",
              "      border-color: transparent;\n",
              "      border-bottom-color: var(--fill-color);\n",
              "      border-left-color: var(--fill-color);\n",
              "    }\n",
              "    20% {\n",
              "      border-color: transparent;\n",
              "      border-left-color: var(--fill-color);\n",
              "      border-top-color: var(--fill-color);\n",
              "    }\n",
              "    30% {\n",
              "      border-color: transparent;\n",
              "      border-left-color: var(--fill-color);\n",
              "      border-top-color: var(--fill-color);\n",
              "      border-right-color: var(--fill-color);\n",
              "    }\n",
              "    40% {\n",
              "      border-color: transparent;\n",
              "      border-right-color: var(--fill-color);\n",
              "      border-top-color: var(--fill-color);\n",
              "    }\n",
              "    60% {\n",
              "      border-color: transparent;\n",
              "      border-right-color: var(--fill-color);\n",
              "    }\n",
              "    80% {\n",
              "      border-color: transparent;\n",
              "      border-right-color: var(--fill-color);\n",
              "      border-bottom-color: var(--fill-color);\n",
              "    }\n",
              "    90% {\n",
              "      border-color: transparent;\n",
              "      border-bottom-color: var(--fill-color);\n",
              "    }\n",
              "  }\n",
              "</style>\n",
              "\n",
              "  <script>\n",
              "    async function quickchart(key) {\n",
              "      const quickchartButtonEl =\n",
              "        document.querySelector('#' + key + ' button');\n",
              "      quickchartButtonEl.disabled = true;  // To prevent multiple clicks.\n",
              "      quickchartButtonEl.classList.add('colab-df-spinner');\n",
              "      try {\n",
              "        const charts = await google.colab.kernel.invokeFunction(\n",
              "            'suggestCharts', [key], {});\n",
              "      } catch (error) {\n",
              "        console.error('Error during call to suggestCharts:', error);\n",
              "      }\n",
              "      quickchartButtonEl.classList.remove('colab-df-spinner');\n",
              "      quickchartButtonEl.classList.add('colab-df-quickchart-complete');\n",
              "    }\n",
              "    (() => {\n",
              "      let quickchartButtonEl =\n",
              "        document.querySelector('#df-883f1fe0-6833-45cf-a028-3681a76e85d4 button');\n",
              "      quickchartButtonEl.style.display =\n",
              "        google.colab.kernel.accessAllowed ? 'block' : 'none';\n",
              "    })();\n",
              "  </script>\n",
              "</div>\n",
              "\n",
              "  <div id=\"id_04157dd0-be21-4370-b35f-bd251f6070f4\">\n",
              "    <style>\n",
              "      .colab-df-generate {\n",
              "        background-color: #E8F0FE;\n",
              "        border: none;\n",
              "        border-radius: 50%;\n",
              "        cursor: pointer;\n",
              "        display: none;\n",
              "        fill: #1967D2;\n",
              "        height: 32px;\n",
              "        padding: 0 0 0 0;\n",
              "        width: 32px;\n",
              "      }\n",
              "\n",
              "      .colab-df-generate:hover {\n",
              "        background-color: #E2EBFA;\n",
              "        box-shadow: 0px 1px 2px rgba(60, 64, 67, 0.3), 0px 1px 3px 1px rgba(60, 64, 67, 0.15);\n",
              "        fill: #174EA6;\n",
              "      }\n",
              "\n",
              "      [theme=dark] .colab-df-generate {\n",
              "        background-color: #3B4455;\n",
              "        fill: #D2E3FC;\n",
              "      }\n",
              "\n",
              "      [theme=dark] .colab-df-generate:hover {\n",
              "        background-color: #434B5C;\n",
              "        box-shadow: 0px 1px 3px 1px rgba(0, 0, 0, 0.15);\n",
              "        filter: drop-shadow(0px 1px 2px rgba(0, 0, 0, 0.3));\n",
              "        fill: #FFFFFF;\n",
              "      }\n",
              "    </style>\n",
              "    <button class=\"colab-df-generate\" onclick=\"generateWithVariable('summary')\"\n",
              "            title=\"Generate code using this dataframe.\"\n",
              "            style=\"display:none;\">\n",
              "\n",
              "  <svg xmlns=\"http://www.w3.org/2000/svg\" height=\"24px\"viewBox=\"0 0 24 24\"\n",
              "       width=\"24px\">\n",
              "    <path d=\"M7,19H8.4L18.45,9,17,7.55,7,17.6ZM5,21V16.75L18.45,3.32a2,2,0,0,1,2.83,0l1.4,1.43a1.91,1.91,0,0,1,.58,1.4,1.91,1.91,0,0,1-.58,1.4L9.25,21ZM18.45,9,17,7.55Zm-12,3A5.31,5.31,0,0,0,4.9,8.1,5.31,5.31,0,0,0,1,6.5,5.31,5.31,0,0,0,4.9,4.9,5.31,5.31,0,0,0,6.5,1,5.31,5.31,0,0,0,8.1,4.9,5.31,5.31,0,0,0,12,6.5,5.46,5.46,0,0,0,6.5,12Z\"/>\n",
              "  </svg>\n",
              "    </button>\n",
              "    <script>\n",
              "      (() => {\n",
              "      const buttonEl =\n",
              "        document.querySelector('#id_04157dd0-be21-4370-b35f-bd251f6070f4 button.colab-df-generate');\n",
              "      buttonEl.style.display =\n",
              "        google.colab.kernel.accessAllowed ? 'block' : 'none';\n",
              "\n",
              "      buttonEl.onclick = () => {\n",
              "        google.colab.notebook.generateWithVariable('summary');\n",
              "      }\n",
              "      })();\n",
              "    </script>\n",
              "  </div>\n",
              "\n",
              "    </div>\n",
              "  </div>\n"
            ],
            "text/plain": [
              "            name  precision  recall  f1-score  accuracy\n",
              "0  Random Forest    0.96320 0.94977   0.95643   0.95200\n",
              "1        XGBoost    0.96527 0.95559   0.96041   0.95629\n",
              "2            ANN    0.97657 0.93143   0.95347   0.94957"
            ]
          },
          "execution_count": 49,
          "metadata": {},
          "output_type": "execute_result"
        }
      ],
      "source": [
        "summary = pd.concat([rf_best_report, xgb_best_report, ann_best_report],axis=0, ignore_index=True)\n",
        "summary"
      ]
    }
  ],
  "metadata": {
    "accelerator": "GPU",
    "colab": {
      "gpuType": "A100",
      "machine_shape": "hm",
      "provenance": [],
      "toc_visible": true,
      "authorship_tag": "ABX9TyP0lVrBZ8vy48d0Gt8poYYP",
      "include_colab_link": true
    },
    "kernelspec": {
      "display_name": "Python 3",
      "name": "python3"
    },
    "language_info": {
      "name": "python"
    }
  },
  "nbformat": 4,
  "nbformat_minor": 0
}